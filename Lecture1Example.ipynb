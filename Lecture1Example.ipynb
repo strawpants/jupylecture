{
 "cells": [
  {
   "cell_type": "markdown",
   "metadata": {
    "slideshow": {
     "slide_type": "slide"
    }
   },
   "source": [
    "#  Q: Are jupyter notebook slides useful to make and distribute your lectures?\n",
    "<img src=\"images/cat.jpg\" alt=\"Drawing\" style=\"width: 300px;\"/>\n",
    "\n",
    "A: maybe, decide for yourself"
   ]
  },
  {
   "cell_type": "markdown",
   "metadata": {
    "cell_style": "center",
    "slideshow": {
     "slide_type": "slide"
    }
   },
   "source": [
    "## Current ways to present lectures\n",
    "\n",
    "* Using a chalkboard (fine, forces students to stay alert, but hard to copy & distribute)\n"
   ]
  },
  {
   "cell_type": "markdown",
   "metadata": {
    "slideshow": {
     "slide_type": "fragment"
    }
   },
   "source": [
    "\n",
    "* Libreoffice/powerpoint (fine, does its job, but not suitable for live coding. Can be a pain in the A. to reformat)"
   ]
  },
  {
   "cell_type": "markdown",
   "metadata": {
    "slideshow": {
     "slide_type": "fragment"
    }
   },
   "source": [
    "* Latex beamer slides (looks nice, only for people who have a lot of time, hard to embed videos, animations etc.)"
   ]
  },
  {
   "cell_type": "markdown",
   "metadata": {
    "cell_style": "center",
    "slideshow": {
     "slide_type": "fragment"
    }
   },
   "source": [
    "* Jupyter notebook slides (let's see what can be done with this)\n",
    "\n",
    "\n",
    "\n"
   ]
  },
  {
   "cell_type": "markdown",
   "metadata": {
    "cell_style": "center",
    "slideshow": {
     "slide_type": "slide"
    }
   },
   "source": [
    "## Advantages of using Jupyter notebook slides (together with reveal.js)"
   ]
  },
  {
   "cell_type": "markdown",
   "metadata": {
    "cell_style": "split",
    "slideshow": {
     "slide_type": "fragment"
    }
   },
   "source": [
    "#### Pros\n",
    "* Every modern browser can display the presentation including **mobile devices**\n",
    "* Looks great and can be customized as a whole\n",
    "* Easy formula manipulation using latex\n",
    "* Can be hosted on/as a static site (with limited functionality)\n",
    "* Write you slides in Markdown (easy)"
   ]
  },
  {
   "cell_type": "markdown",
   "metadata": {
    "cell_style": "split",
    "slideshow": {
     "slide_type": "fragment"
    }
   },
   "source": [
    "#### Cons\n",
    "* May be unexpected for your audience\n",
    "* Markdown has limitations (is not very extensive). Special formatting requires some html and css knowledge\n",
    "* It is not: *what you see is what you get* (so some iteration may be needed to get things right)"
   ]
  },
  {
   "cell_type": "markdown",
   "metadata": {
    "slideshow": {
     "slide_type": "slide"
    }
   },
   "source": [
    "# More possiblities when using the jupyter notebook in combination with the rise extension (like this one)\n",
    "\n",
    "* Run presentation directly froma jupyter notebook\n",
    "    * Allows to dynamically run code cells (pretty cool!)\n",
    "    * Use a chalkboard and draw on the screen or slides (also pretty cool!)\n",
    "* more difficult to export to static html (tough)"
   ]
  },
  {
   "cell_type": "markdown",
   "metadata": {
    "slideshow": {
     "slide_type": "slide"
    }
   },
   "source": [
    "## Prepare your slides\n",
    "* [Install the rise notebook extension](https://rise.readthedocs.io/en/stable/installation.html)\n",
    "* Clone this template repository\n",
    "* In Jupyter notebook got to *edit*$\\rightarrow$ *Edit Notebook Metadat*. And change the footer text and date in the rise section.\n",
    "* Possibly change the logo image file\n",
    "* Press `Alt-r` to view"
   ]
  },
  {
   "cell_type": "markdown",
   "metadata": {
    "cell_style": "center",
    "slideshow": {
     "slide_type": "slide"
    }
   },
   "source": [
    "# Do some live coding in your presentation\n",
    "Note: this only works when the notebook is hosted from a jupyter notebook server\n",
    "\n"
   ]
  },
  {
   "cell_type": "code",
   "execution_count": null,
   "metadata": {
    "cell_style": "center",
    "slideshow": {
     "slide_type": "fragment"
    }
   },
   "outputs": [],
   "source": [
    "#let's make a silly print function and try executing it\n",
    "from datetime import datetime\n",
    "def testprint():\n",
    "    print(\"blah blah blah at %s\"%datetime.now())\n",
    "\n",
    "testprint()"
   ]
  },
  {
   "cell_type": "markdown",
   "metadata": {
    "slideshow": {
     "slide_type": "slide"
    }
   },
   "source": [
    "# So you can do live plotting with matplotlib"
   ]
  },
  {
   "cell_type": "code",
   "execution_count": null,
   "metadata": {
    "slideshow": {
     "slide_type": "fragment"
    }
   },
   "outputs": [],
   "source": [
    "import matplotlib.pyplot as plt\n",
    "import numpy as np\n",
    "import math\n",
    "\n",
    "t=np.arange(-10,10,0.1)\n",
    "\n",
    "sint=[math.sin(x) for x in t]\n",
    "\n",
    "plt.plot(t,sint)\n"
   ]
  },
  {
   "cell_type": "markdown",
   "metadata": {
    "slideshow": {
     "slide_type": "slide"
    }
   },
   "source": [
    "## You can also easily insert latex formula's in your cells\n",
    "$$c = \\sqrt{a^2 + b^2}$$"
   ]
  },
  {
   "cell_type": "markdown",
   "metadata": {
    "slideshow": {
     "slide_type": "fragment"
    }
   },
   "source": [
    "But please, don't overdo it with those formula's. It's a heavy cognitive burden for your audience 😉"
   ]
  },
  {
   "cell_type": "markdown",
   "metadata": {
    "slideshow": {
     "slide_type": "fragment"
    }
   },
   "source": [
    "<font size=\"2\">PS. I just copy pasted the emoji from [here](https://emojipedia.org/)</font>"
   ]
  },
  {
   "cell_type": "markdown",
   "metadata": {
    "slideshow": {
     "slide_type": "slide"
    }
   },
   "source": [
    "## You can insert images using the markdown syntax: \n",
    "`![alt text](images/logo.svg)`\n",
    "\n",
    "![alt text](images/cat2.png)\n"
   ]
  },
  {
   "cell_type": "markdown",
   "metadata": {
    "slideshow": {
     "slide_type": "slide"
    }
   },
   "source": [
    "## But if you want more control over the size and style of the image you need to insert some html:\n",
    "`<img src=\"images/logo.svg\" alt=\"logo larger\" style=\"width: 300px;\"/>`\n",
    "\n",
    "<img src=\"images/cat2.png\" alt=\"logo larger\" style=\"width: 300px;\"/>"
   ]
  },
  {
   "cell_type": "markdown",
   "metadata": {
    "slideshow": {
     "slide_type": "slide"
    }
   },
   "source": [
    "# Want if I want to print the slides to a pdf and spam my colleagues inbox?\n",
    "\n",
    "[Try this](https://rise.readthedocs.io/en/stable/exportpdf.html)\n",
    "* The decktape solution worked for me (apr 2020)\n",
    "* Note: if you want to produce a pdf for printing, you may want to consider using a light theme so student don't have to buy a new cartridge every time the print your lecture. Please set the `{\"rise\",\"theme\"}` variable in your jupyter notebook metadata\n"
   ]
  },
  {
   "cell_type": "markdown",
   "metadata": {
    "slideshow": {
     "slide_type": "slide"
    }
   },
   "source": [
    "# That's all for now\n",
    "\n",
    "Here's some food for throught:\n",
    "* [Reveal.js (the underlying javascript which makes this possible)](https://revealjs.com/#/)\n",
    "* [Working with Jupyter notebook slides](https://www.markroepke.me/posts/2019/05/23/creating-interactive-slideshows-in-jupyter.html)\n",
    "\n",
    "* [tips and tricks](https://www.markroepke.me/posts/2019/06/05/tips-for-slideshows-in-jupyter.html)\n",
    "\n",
    "* [rise nbextension](https://rise.readthedocs.io/en/stable/)\n",
    "\n",
    "### TODO\n",
    "* enable better export to static html (respecting footer and reveal theme, thgese are currently lost)\n",
    "* more consistent coloring (css)"
   ]
  }
 ],
 "metadata": {
  "celltoolbar": "Slideshow",
  "kernelspec": {
   "display_name": "pyrr",
   "language": "python",
   "name": "pyrr"
  },
  "language_info": {
   "codemirror_mode": {
    "name": "ipython",
    "version": 3
   },
   "file_extension": ".py",
   "mimetype": "text/x-python",
   "name": "python",
   "nbconvert_exporter": "python",
   "pygments_lexer": "ipython3",
   "version": "3.8.2"
  },
  "rise": {
   "autolaunch": true,
   "enable_chalkboard": true,
   "footer": "<div><h3>Jupyter notebook slides template for lectures, R.Rietbroek, April 2020</h3></div><div><img src=\"images/logo.svg\" alt=\"Logo\"/></div>",
   "slideNumber": "c/t",
   "theme": "black",
   "transition": "None"
  }
 },
 "nbformat": 4,
 "nbformat_minor": 2
}
